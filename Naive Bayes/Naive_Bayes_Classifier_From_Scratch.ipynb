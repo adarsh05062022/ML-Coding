{
  "nbformat": 4,
  "nbformat_minor": 0,
  "metadata": {
    "colab": {
      "provenance": []
    },
    "kernelspec": {
      "name": "python3",
      "display_name": "Python 3"
    },
    "language_info": {
      "name": "python"
    }
  },
  "cells": [
    {
      "cell_type": "code",
      "execution_count": 2,
      "metadata": {
        "id": "X8qIYdIjE375"
      },
      "outputs": [],
      "source": [
        "import numpy as np\n",
        "\n"
      ]
    },
    {
      "cell_type": "code",
      "source": [
        "class NaiveBayes:\n",
        "\n",
        "  def fit(self,X,y):\n",
        "    no_samples,no_feature = X.shape\n",
        "    self._classes = np.unique(y)\n",
        "    no_classes = len(self._classes)\n",
        "\n",
        "    # we are intializing the variance , mean for each class and each feature and prior for each class ans 0 and after that we are going to calculate the the mean, variance and prior\n",
        "\n",
        "    self._mean = np.zeros((no_classes,no_feature),dtype=np.float64)\n",
        "    self._var = np.zeros((no_classes,no_feature),dtype=np.float64)\n",
        "    self._prior = np.zeros(no_classes,dtype=np.float64)\n",
        "\n",
        "    for idx,c in enumerate(self._classes):\n",
        "      X_c = X[y==c]\n",
        "      self._mean[idx,:] = X_c.mean(axis = 0)\n",
        "      self._var[idx,:] = X_c.var(axis = 0)\n",
        "      self._prior[idx] = X_c.shape[0] / float(no_samples)\n",
        "\n",
        "  def predict(self,X):\n",
        "    y_pred = [self._predict(x) for x in X]\n",
        "    return np.array(y_pred)\n",
        "\n",
        "  def _predict(self,x):\n",
        "    posteriors = []\n",
        "\n",
        "    # now we are calculating the posterior probability of each classes\n",
        "\n",
        "    for idx , c in enumerate(self._classes):\n",
        "      prior = np.log(self._prior[idx])\n",
        "      liklihood = np.sum(np.log(self._pdf(idx,x)))\n",
        "      posterior  = prior + liklihood\n",
        "      posteriors.append(posterior)\n",
        "\n",
        "        # returning the highest probabilitity for each class\n",
        "    return self._classes[np.argmax(posteriors)]\n",
        "\n",
        "\n",
        "  def _pdf(self,class_idx , x):\n",
        "    mean = self._mean[class_idx]\n",
        "    var = self._var[class_idx]\n",
        "    nume = np.exp(-((x-mean)**2)/(2 * var))\n",
        "    deno = np.sqrt(2 * np.pi * var)\n",
        "    return nume/deno\n",
        "\n",
        "\n",
        "\n",
        "\n",
        "\n"
      ],
      "metadata": {
        "id": "pv6egz-uFANx"
      },
      "execution_count": 7,
      "outputs": []
    },
    {
      "cell_type": "code",
      "source": [
        "def train_test_split(X, y, test_size=0.2, shuffle=True, random_state=None):\n",
        "\n",
        "    n_samples = X.shape[0]\n",
        "\n",
        "    # Convert float test_size to number of samples\n",
        "    if isinstance(test_size, float):\n",
        "        n_test = int(n_samples * test_size)\n",
        "    else:\n",
        "        n_test = test_size\n",
        "\n",
        "    if shuffle:\n",
        "        if random_state is not None:\n",
        "            np.random.seed(random_state)\n",
        "        indices = np.random.permutation(n_samples)  # shuffle indices\n",
        "    else:\n",
        "        indices = np.arange(n_samples)  # no shuffle\n",
        "\n",
        "    test_indices = indices[:n_test]\n",
        "    train_indices = indices[n_test:]\n",
        "\n",
        "    X_train, X_test = X[train_indices], X[test_indices]\n",
        "    y_train, y_test = y[train_indices], y[test_indices]\n",
        "\n",
        "    return X_train, X_test, y_train, y_test\n"
      ],
      "metadata": {
        "id": "XHYwfP6qJyP5"
      },
      "execution_count": 8,
      "outputs": []
    },
    {
      "cell_type": "code",
      "source": [
        "def accuracy(y_true, y_pred):\n",
        "        accuracy = np.sum(y_true == y_pred) / len(y_true)\n",
        "        return accuracy"
      ],
      "metadata": {
        "id": "HuP_cc72MbK4"
      },
      "execution_count": 9,
      "outputs": []
    },
    {
      "cell_type": "code",
      "source": [
        "from sklearn import datasets\n",
        "import matplotlib.pyplot as plt\n",
        "\n",
        "X,y  = datasets.make_classification(\n",
        "     n_samples=1000,\n",
        "    n_features=10,\n",
        "\n",
        "\n",
        "    n_classes = 2,\n",
        "    random_state=12\n",
        ")\n",
        "\n",
        "X_train,X_test,y_train,y_test = train_test_split(X,y,test_size=0.2,shuffle=True,random_state=142)\n",
        "\n",
        "nb  = NaiveBayes()\n",
        "nb.fit(X_train,y_train)\n",
        "\n",
        "y_pred = nb.predict(X_test)\n",
        "\n",
        "print(accuracy(y_test,y_pred) * 100,\"%\")\n",
        "\n",
        "\n",
        "\n",
        "\n",
        "\n",
        "\n",
        "\n"
      ],
      "metadata": {
        "colab": {
          "base_uri": "https://localhost:8080/"
        },
        "id": "Wd3AlL7xMoF_",
        "outputId": "6d02b14d-ddc0-48bd-fb0b-8b2a5954569d"
      },
      "execution_count": 36,
      "outputs": [
        {
          "output_type": "stream",
          "name": "stdout",
          "text": [
            "89.0 %\n"
          ]
        }
      ]
    },
    {
      "cell_type": "code",
      "source": [],
      "metadata": {
        "id": "B1g3c72JO5Je"
      },
      "execution_count": null,
      "outputs": []
    }
  ]
}