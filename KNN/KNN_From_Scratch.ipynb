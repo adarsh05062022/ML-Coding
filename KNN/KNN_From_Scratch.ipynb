{
  "nbformat": 4,
  "nbformat_minor": 0,
  "metadata": {
    "colab": {
      "provenance": []
    },
    "kernelspec": {
      "name": "python3",
      "display_name": "Python 3"
    },
    "language_info": {
      "name": "python"
    }
  },
  "cells": [
    {
      "cell_type": "code",
      "execution_count": 32,
      "metadata": {
        "id": "9jD-SEYhtPVz"
      },
      "outputs": [],
      "source": [
        "import numpy as np\n",
        "from collections import Counter\n"
      ]
    },
    {
      "cell_type": "code",
      "source": [
        "def eculidian_dis(x1,x2):\n",
        "  distance = np.sqrt(np.sum((x1 - x2) ** 2))\n",
        "  return distance"
      ],
      "metadata": {
        "id": "DMGkMCnmw872"
      },
      "execution_count": 33,
      "outputs": []
    },
    {
      "cell_type": "code",
      "source": [
        "class KNN:\n",
        "  def __init__(self,k):\n",
        "    self.k = k\n",
        "\n",
        "  def fit(self,X,y):\n",
        "    self.X_train = X\n",
        "    self.y_train = y\n",
        "\n",
        "\n",
        "  def predict(self,X):\n",
        "    y_pred = [self._predict(x) for x in X]\n",
        "    return y_pred\n",
        "\n",
        "  def _predict(self,x):\n",
        "    distances = [eculidian_dis(x,x_train) for x_train in self.X_train ]\n",
        "\n",
        "    k_idx = np.argsort(distances)[:self.k]\n",
        "\n",
        "    k_n_labels = [self.y_train[i] for i in k_idx]\n",
        "\n",
        "    most_common = Counter(k_n_labels).most_common(1)\n",
        "\n",
        "    return most_common[0][0]\n",
        "\n",
        "\n"
      ],
      "metadata": {
        "id": "qCoRfPv4wrEr"
      },
      "execution_count": 34,
      "outputs": []
    },
    {
      "cell_type": "code",
      "source": [
        "from sklearn import datasets\n",
        "from sklearn.model_selection import train_test_split"
      ],
      "metadata": {
        "id": "Wis3MSUE0rpE"
      },
      "execution_count": 35,
      "outputs": []
    },
    {
      "cell_type": "code",
      "source": [
        "def accuracy(y_true, y_pred):\n",
        "    accuracy = np.sum(y_true == y_pred) / len(y_true)\n",
        "    return accuracy\n",
        "\n"
      ],
      "metadata": {
        "id": "RNFXYQvx1HN6"
      },
      "execution_count": 36,
      "outputs": []
    },
    {
      "cell_type": "code",
      "source": [
        "iris = datasets.load_iris()\n",
        "X, y = iris.data, iris.target\n",
        "\n",
        "\n",
        "X_train, X_test, y_train, y_test = train_test_split(\n",
        "        X, y, test_size=0.2, random_state=1224\n",
        ")\n",
        "\n",
        "\n",
        "k = 2\n",
        "clf = KNN(k=k)\n",
        "clf.fit(X_train, y_train)\n",
        "predictions = clf.predict(X_test)\n",
        "print(f\"KNN classification accuracy for k = {k}\", accuracy(y_test, predictions) * 100, \"%\")\n",
        "\n",
        "k = 3\n",
        "clf = KNN(k=k)\n",
        "clf.fit(X_train, y_train)\n",
        "predictions = clf.predict(X_test)\n",
        "print(f\"KNN classification accuracy for k = {k}\", accuracy(y_test, predictions) * 100, \"%\")\n",
        "\n",
        "k = 4\n",
        "clf = KNN(k=k)\n",
        "clf.fit(X_train, y_train)\n",
        "predictions = clf.predict(X_test)\n",
        "print(f\"KNN classification accuracy for k = {k}\", accuracy(y_test, predictions) * 100, \"%\")"
      ],
      "metadata": {
        "colab": {
          "base_uri": "https://localhost:8080/"
        },
        "id": "9eIQ6S0f1b--",
        "outputId": "ea64e4c4-8da7-44b2-c63e-ece21a37dff9"
      },
      "execution_count": 37,
      "outputs": [
        {
          "output_type": "stream",
          "name": "stdout",
          "text": [
            "KNN classification accuracy for k = 2 93.33333333333333 %\n",
            "KNN classification accuracy for k = 3 90.0 %\n",
            "KNN classification accuracy for k = 4 93.33333333333333 %\n"
          ]
        }
      ]
    }
  ]
}