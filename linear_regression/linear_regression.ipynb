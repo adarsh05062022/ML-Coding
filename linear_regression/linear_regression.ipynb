{
  "nbformat": 4,
  "nbformat_minor": 0,
  "metadata": {
    "colab": {
      "provenance": [],
      "authorship_tag": "ABX9TyPgZYvVTE52tw2lytQgmi0y",
      "include_colab_link": true
    },
    "kernelspec": {
      "name": "python3",
      "display_name": "Python 3"
    },
    "language_info": {
      "name": "python"
    }
  },
  "cells": [
    {
      "cell_type": "markdown",
      "metadata": {
        "id": "view-in-github",
        "colab_type": "text"
      },
      "source": [
        "<a href=\"https://colab.research.google.com/github/adarsh05062022/ML-Coding/blob/main/linear_regression.ipynb\" target=\"_parent\"><img src=\"https://colab.research.google.com/assets/colab-badge.svg\" alt=\"Open In Colab\"/></a>"
      ]
    },
    {
      "cell_type": "code",
      "execution_count": null,
      "metadata": {
        "colab": {
          "base_uri": "https://localhost:8080/"
        },
        "id": "whw-PlnXfJnn",
        "outputId": "6ab371dd-f6cc-4124-e6cf-fc69ac7d3b95"
      },
      "outputs": [
        {
          "output_type": "stream",
          "name": "stdout",
          "text": [
            "Hello\n"
          ]
        }
      ],
      "source": [
        "print(\"Hello\")"
      ]
    },
    {
      "cell_type": "code",
      "source": [
        "import numpy as np\n",
        "\n",
        "class LinearRegression:\n",
        "  def __init__(self,lr = 0.01,epochs=1000):\n",
        "    self.lr = lr\n",
        "    self.epochs = epochs\n",
        "    self.m = 0\n",
        "    self.c = 0\n",
        "\n",
        "  def fit(self,X,y):\n",
        "    n = len(X)\n",
        "    for _ in range(self.epochs):\n",
        "      y_pred = self.m * X + self.c #predicted values\n",
        "\n",
        "      #calculating the gradient\n",
        "\n",
        "      dm = (-2/n) * np.sum(X * (y-y_pred))\n",
        "      dc = (-2/n) * np.sum(y-y_pred)\n",
        "\n",
        "      # updating the paramenter\n",
        "\n",
        "      self.m = self.m - self.lr * dm\n",
        "      self.c = self.c - self.lr * dc\n",
        "\n",
        "  def predict(self,X):\n",
        "    return self.m * X + self.c\n",
        "\n",
        "\n"
      ],
      "metadata": {
        "collapsed": true,
        "id": "AjZ15DSjgN5t"
      },
      "execution_count": null,
      "outputs": []
    },
    {
      "cell_type": "code",
      "source": [
        "\n",
        "X = np.array([1,2,3,4,5],dtype=float)\n",
        "y = np.array([2,4,6,8,10],dtype=float)\n",
        "\n",
        "#train the model\n",
        "\n",
        "model = LinearRegression(lr = 0.01,epochs=1000)\n",
        "model.fit(X,y)\n",
        "\n",
        "\n",
        "# Results\n",
        "print(\"Slope (m):\", model.m)\n",
        "print(\"Intercept (c):\", model.c)\n",
        "\n",
        "\n",
        "# Predictions\n",
        "preds = model.predict(np.array([6, 7, 8]))\n",
        "print(\"Predictions:\", preds)"
      ],
      "metadata": {
        "colab": {
          "base_uri": "https://localhost:8080/"
        },
        "id": "JmsRpezLglSl",
        "outputId": "c4b89ee6-e867-4016-ad1d-622a611afb56"
      },
      "execution_count": null,
      "outputs": [
        {
          "output_type": "stream",
          "name": "stdout",
          "text": [
            "Slope (m): 1.9999999999999973\n",
            "Intercept (c): 8.424360046094841e-15\n",
            "Predictions: [12. 14. 16.]\n"
          ]
        }
      ]
    }
  ]
}