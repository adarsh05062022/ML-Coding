{
  "nbformat": 4,
  "nbformat_minor": 0,
  "metadata": {
    "colab": {
      "provenance": [],
      "authorship_tag": "ABX9TyPr3sx/4+q8D54wqsWjqmVl",
      "include_colab_link": true
    },
    "kernelspec": {
      "name": "python3",
      "display_name": "Python 3"
    },
    "language_info": {
      "name": "python"
    }
  },
  "cells": [
    {
      "cell_type": "markdown",
      "metadata": {
        "id": "view-in-github",
        "colab_type": "text"
      },
      "source": [
        "<a href=\"https://colab.research.google.com/github/adarsh05062022/ML-Coding/blob/main/Logistic_Regression.ipynb\" target=\"_parent\"><img src=\"https://colab.research.google.com/assets/colab-badge.svg\" alt=\"Open In Colab\"/></a>"
      ]
    },
    {
      "cell_type": "code",
      "execution_count": 13,
      "metadata": {
        "id": "ZgF9t-PEmZqD"
      },
      "outputs": [],
      "source": [
        "import numpy as np\n",
        "\n",
        "class LogisticRegression:\n",
        "  def __init__(self,learning_rate=0.01,epoch=1000):\n",
        "    self.lr = learning_rate\n",
        "    self.epoch = epoch\n",
        "    self.weights = None\n",
        "    self.bias = None\n",
        "\n",
        "  def fit(self,X,y):\n",
        "    n_samples , n_feature = X.shape\n",
        "\n",
        "    self.weights = np.zeros(n_feature)\n",
        "    self.bias = 0\n",
        "\n",
        "\n",
        "    for _ in range(self.epoch):\n",
        "      linear_model = np.dot(X,self.weights) + self.bias\n",
        "      y_pred = self.sigmoid(linear_model)\n",
        "\n",
        "      dw = (1/n_samples) * np.dot(X.T,(y_pred-y))\n",
        "      db = (1/ n_samples) * np.sum(y_pred - y)\n",
        "\n",
        "      self.weights -= self.lr * dw\n",
        "      self.bias -= self.lr * db\n",
        "\n",
        "\n",
        "\n",
        "  def predict(self,X):\n",
        "    linear_model = np.dot(X,self.weights) + self.bias\n",
        "    y_pred = self.sigmoid(linear_model)\n",
        "    y_pred_cls = [1 if i >0.5 else 0 for i in y_pred]\n",
        "    return np.array(y_pred_cls)\n",
        "\n",
        "\n",
        "\n",
        "  def sigmoid(self,x):\n",
        "    return 1/( 1+ np.exp(-x))\n",
        "\n"
      ]
    },
    {
      "cell_type": "code",
      "source": [
        "from sklearn.model_selection import train_test_split\n",
        "from sklearn import datasets\n",
        "\n",
        "def accuracy(y_true, y_pred):\n",
        "    accuracy = np.sum(y_true == y_pred) / len(y_true)\n",
        "    return accuracy\n",
        "\n",
        "\n",
        "bc = datasets.load_breast_cancer()\n",
        "\n",
        "X, y = bc.data, bc.target\n",
        "\n",
        "X_train,X_test,y_train,y_test = train_test_split(X,y,test_size=0.2,random_state=1234)\n",
        "\n",
        "regressor  = LogisticRegression(learning_rate=0.0001,epoch=1000)\n",
        "\n",
        "regressor.fit(X_train,y_train)\n",
        "predictions = regressor.predict(X_test)\n",
        "\n",
        "print(predictions)\n",
        "print(y_test)\n",
        "\n",
        "print(\"LR classification accuracy:\", accuracy(y_test, predictions))\n",
        "\n"
      ],
      "metadata": {
        "colab": {
          "base_uri": "https://localhost:8080/"
        },
        "id": "UZ_nUolsnad-",
        "outputId": "6f641e6c-649e-41c5-d2df-a02f6ab2cebe"
      },
      "execution_count": 16,
      "outputs": [
        {
          "output_type": "stream",
          "name": "stdout",
          "text": [
            "[1 1 1 1 1 1 0 1 0 0 0 1 1 1 1 0 1 1 1 0 1 0 0 0 0 0 0 1 1 1 1 1 0 1 1 1 1\n",
            " 0 0 1 0 1 0 1 1 1 1 0 0 1 1 1 1 0 0 1 1 1 1 0 1 1 1 1 1 0 0 1 1 0 1 0 1 1\n",
            " 1 1 1 0 1 0 1 1 1 1 0 0 0 0 1 1 1 1 1 0 1 1 1 1 1 1 0 0 1 1 0 1 1 0 1 1 0\n",
            " 0 0 0]\n",
            "[1 1 1 1 1 1 0 1 0 0 0 1 1 1 1 0 1 1 1 0 1 0 0 0 0 1 0 1 1 1 1 1 0 1 1 1 1\n",
            " 0 0 1 0 1 0 1 1 1 1 0 0 1 1 1 1 0 0 1 1 1 1 0 1 1 1 1 1 0 0 1 1 0 1 0 1 0\n",
            " 1 1 1 0 1 0 1 1 1 0 0 0 0 0 1 0 1 0 1 0 0 1 1 1 1 1 0 0 1 1 0 1 1 0 0 1 0\n",
            " 1 0 0]\n",
            "LR classification accuracy: 0.9298245614035088\n"
          ]
        }
      ]
    }
  ]
}